{
  "nbformat": 4,
  "nbformat_minor": 0,
  "metadata": {
    "colab": {
      "provenance": []
    },
    "kernelspec": {
      "name": "python3",
      "display_name": "Python 3"
    },
    "language_info": {
      "name": "python"
    }
  },
  "cells": [
    {
      "cell_type": "code",
      "source": [
        "!pip install bnlearn"
      ],
      "metadata": {
        "id": "LsovQs9sUe0R"
      },
      "execution_count": null,
      "outputs": []
    },
    {
      "cell_type": "code",
      "source": [
        "!pip install d3blocks"
      ],
      "metadata": {
        "id": "KBDFwuO1UgbT"
      },
      "execution_count": null,
      "outputs": []
    },
    {
      "cell_type": "code",
      "source": [
        "import warnings\n",
        "\n",
        "# To ignore all warnings\n",
        "warnings.filterwarnings(\"ignore\")"
      ],
      "metadata": {
        "id": "9UXrKBFpDz4F"
      },
      "execution_count": null,
      "outputs": []
    },
    {
      "cell_type": "markdown",
      "source": [
        "# BnLearn"
      ],
      "metadata": {
        "id": "dN3c3FDREDzN"
      }
    },
    {
      "cell_type": "code",
      "source": [
        "import pandas as pd\n",
        "import numpy as np\n",
        "import matplotlib.pyplot as plt\n",
        "#import bnlearn as bn\n",
        "import networkx as nx\n",
        "from tabulate import tabulate"
      ],
      "metadata": {
        "id": "h739gQ_AVKHS"
      },
      "execution_count": null,
      "outputs": []
    },
    {
      "cell_type": "code",
      "source": [
        "from google.colab import files\n",
        "uploaded = files.upload()"
      ],
      "metadata": {
        "id": "8ebv8z9FWmGy"
      },
      "execution_count": null,
      "outputs": []
    },
    {
      "cell_type": "code",
      "source": [
        "# Replace 'your_file.xlsx' with the actual name of your Excel file\n",
        "file_path = 'after_filtering_data.csv'\n",
        "\n",
        "# Read the Excel file into a pandas DataFrame or csv file\n",
        "df1 = pd.read_csv(file_path)\n",
        "\n",
        "# Display the DataFrame\n",
        "df1.head()"
      ],
      "metadata": {
        "id": "2am2P5S_W-Ov"
      },
      "execution_count": null,
      "outputs": []
    },
    {
      "cell_type": "code",
      "source": [
        "from sklearn.cluster import KMeans\n",
        "import matplotlib.pyplot as plt\n",
        "\n",
        "inertias = []\n",
        "\n",
        "# Compute the inertia (WCSS) for each number of clusters from 1 to 10\n",
        "for i in range(1, 11):\n",
        "    kmeans = KMeans(n_clusters=i)\n",
        "    kmeans.fit(df1)\n",
        "    inertias.append(kmeans.inertia_)  # Inertia is the same as WCSS\n",
        "\n",
        "# Plot the elbow method graph\n",
        "plt.plot(range(1, 11), inertias, marker='o')\n",
        "plt.title('Elbow Method')\n",
        "plt.xlabel('Number of clusters')\n",
        "plt.ylabel('Inertia (WCSS)')\n",
        "plt.show()"
      ],
      "metadata": {
        "id": "Hlyfdjc2B8tp"
      },
      "execution_count": null,
      "outputs": []
    },
    {
      "cell_type": "code",
      "source": [
        "from sklearn.preprocessing import KBinsDiscretizer"
      ],
      "metadata": {
        "id": "himifytUYkha"
      },
      "execution_count": null,
      "outputs": []
    },
    {
      "cell_type": "code",
      "source": [
        "discretizer = KBinsDiscretizer(n_bins=3, encode='ordinal', strategy='uniform')\n",
        "df_discretized = pd.DataFrame(discretizer.fit_transform(df1), columns=df1.columns)\n",
        "\n",
        "print(df_discretized)\n",
        "\n",
        "df_discretized.describe()"
      ],
      "metadata": {
        "id": "kwEZe-rWcQWL"
      },
      "execution_count": null,
      "outputs": []
    },
    {
      "cell_type": "code",
      "source": [
        "# Structure learning\n",
        "model = bn.structure_learning.fit(df_discretized, methodtype='hillclimbsearch', scoretype='bic')\n",
        "\n",
        "# Test edges significance and remove.\n",
        "model = bn.independence_test(model, df_discretized, test=\"chi_square\", alpha=0.05, prune=True)\n",
        "\n",
        "# Make plot\n",
        "G = bn.plot(model, interactive=False)\n",
        "\n",
        "# Make plot\n",
        "# Set the figure size\n",
        "plt.figure(figsize=(20, 10))  # Adjust the width and height as needed\n",
        "\n",
        "# Show the plot\n",
        "plt.show()\n",
        "\n",
        "# Tabulate the results of the independence test\n",
        "# Examine the output of the chi-square test. All P values are significant. Nothing is removed.\n",
        "results1 = tabulate(model['independence_test'], tablefmt=\"grid\", headers=\"keys\")\n",
        "print(results1)"
      ],
      "metadata": {
        "id": "YvaCLbYbcZNC"
      },
      "execution_count": null,
      "outputs": []
    },
    {
      "cell_type": "markdown",
      "source": [
        "# CausalNex"
      ],
      "metadata": {
        "id": "aCOQW4nDEZD1"
      }
    },
    {
      "cell_type": "code",
      "source": [
        "!pip install causalnex"
      ],
      "metadata": {
        "id": "dIIjRcD_UiPl"
      },
      "execution_count": null,
      "outputs": []
    },
    {
      "cell_type": "code",
      "source": [
        "from causalnex.structure.notears import from_pandas\n",
        "from causalnex.network import BayesianNetwork\n",
        "import networkx as nx\n",
        "from sklearn.preprocessing import LabelEncoder\n",
        "le = LabelEncoder()"
      ],
      "metadata": {
        "id": "VlyC1ppwz6jo"
      },
      "execution_count": null,
      "outputs": []
    },
    {
      "cell_type": "code",
      "source": [
        "# Structure learning\n",
        "sm = from_pandas(df1)\n",
        "# Print information about the structure model\n",
        "print(sm.edges(data=True))\n",
        "\n",
        "# Thresholding\n",
        "sm.remove_edges_below_threshold(0.8)\n",
        "\n",
        "# Use positions from Bnlearn\n",
        "pos = nx.spring_layout(sm)\n",
        "# Make plot\n",
        "plt.figure(figsize=(15,10));\n",
        "edge_width = [ d['weight']*0.3 for (u,v,d) in sm.edges(data=True)]\n",
        "nx.draw_networkx(sm, node_size=200, arrowsize=20, alpha=0.6, edge_color='b', width=edge_width)\n"
      ],
      "metadata": {
        "id": "yXr1zPHw1JyW"
      },
      "execution_count": null,
      "outputs": []
    },
    {
      "cell_type": "code",
      "source": [
        "# Extract edge information from the structure model\n",
        "edge_info = [(u, v, d) for u, v, d in sm.edges(data=True)]\n",
        "\n",
        "# Create a DataFrame from the edge information\n",
        "df_edge_info = pd.DataFrame(edge_info, columns=['Source', 'Target', 'Attributes'])\n",
        "\n",
        "# Display the DataFrame\n",
        "df_edge_info"
      ],
      "metadata": {
        "id": "Nth1kJkp2YiY"
      },
      "execution_count": null,
      "outputs": []
    },
    {
      "cell_type": "markdown",
      "source": [
        "# LiNGAM"
      ],
      "metadata": {
        "id": "5y2vW5HV5gYM"
      }
    },
    {
      "cell_type": "code",
      "source": [
        "!pip install causal-learn"
      ],
      "metadata": {
        "id": "p6SydtzYD1fg"
      },
      "execution_count": null,
      "outputs": []
    },
    {
      "cell_type": "code",
      "source": [
        "! pip install lingam"
      ],
      "metadata": {
        "id": "-3myIojLD6ir"
      },
      "execution_count": null,
      "outputs": []
    },
    {
      "cell_type": "code",
      "source": [
        "import numpy as np\n",
        "import pandas as pd\n",
        "import graphviz\n",
        "from graphviz import Source\n",
        "import networkx as nx\n",
        "import pydotplus\n",
        "from causallearn.search.FCMBased import lingam\n",
        "from causallearn.search.FCMBased.lingam.utils import make_dot\n",
        "import matplotlib.pyplot as plt\n",
        "\n",
        "np.set_printoptions(precision=3, suppress=True)"
      ],
      "metadata": {
        "id": "NnDWqfW8EisM"
      },
      "execution_count": null,
      "outputs": []
    },
    {
      "cell_type": "code",
      "source": [
        "# Assuming df1 is your DataFrame with data\n",
        "model_ica = lingam.ICALiNGAM(random_state=42)\n",
        "model_ica.fit(df1)\n",
        "\n",
        "# Create labels for each column in df1\n",
        "labels = [f'{col}' for col in df1.columns]\n",
        "\n",
        "# Generate the plot using make_dot\n",
        "make_dot(model_ica.adjacency_matrix_, labels=labels)"
      ],
      "metadata": {
        "id": "X8oD1ooZE4HA"
      },
      "execution_count": null,
      "outputs": []
    },
    {
      "cell_type": "code",
      "source": [
        "# Initialize an empty DataFrame to store all edge information\n",
        "all_edges_df = pd.DataFrame(columns=['From', 'To'])\n",
        "\n",
        "# Convert adjacency matrix into DataFrame for better visualization\n",
        "adjacency_df = pd.DataFrame(model_ica.adjacency_matrix_, index=labels, columns=labels)\n",
        "\n",
        "# Initialize a list to store edge information for this iteration\n",
        "edges_list = []\n",
        "\n",
        "# Iterate over the adjacency matrix and add edges to edges_df\n",
        "for i in range(adjacency_df.shape[0]):\n",
        "    for j in range(adjacency_df.shape[1]):\n",
        "        adjacency_value = adjacency_df.iloc[i, j]  # Get the value in the adjacency matrix\n",
        "        if adjacency_value != 0:\n",
        "            connection_strength = adjacency_value  # The connection strength is the same as the adjacency value\n",
        "            edges_list.append({'From': labels[j], 'To': labels[i], 'Connection Strength': connection_strength})\n",
        "\n",
        "# Convert edges_list to a DataFrame and append it to all_edges_df\n",
        "edges_df = pd.DataFrame(edges_list)\n",
        "all_edges_df = pd.concat([all_edges_df, edges_df], ignore_index=True)\n",
        "\n",
        "# Replace 'path_to_save.csv' with your desired file path and name\n",
        "all_edges_df"
      ],
      "metadata": {
        "id": "xAKzwEyJE9az"
      },
      "execution_count": null,
      "outputs": []
    }
  ]
}